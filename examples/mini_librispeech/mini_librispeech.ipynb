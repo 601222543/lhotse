{
 "cells": [
  {
   "cell_type": "code",
   "execution_count": null,
   "metadata": {},
   "outputs": [],
   "source": [
    "import os\n",
    "\n",
    "from pathlib import Path\n",
    "\n",
    "import matplotlib.pyplot as plt\n",
    "\n",
    "from lhotse.recipes.mini_librispeech import download_and_untar, prepare_mini_librispeech\n",
    "from lhotse.features import FeatureSetBuilder, FeatureExtractor\n",
    "from lhotse.cut import make_cuts_from_supervisions\n",
    "from lhotse.dataset.speech_recognition import SpeechRecognitionDataset"
   ]
  },
  {
   "cell_type": "code",
   "execution_count": null,
   "metadata": {},
   "outputs": [],
   "source": [
    "root_dir = Path('env')\n",
    "corpus_dir = root_dir / 'LibriSpeech'\n",
    "output_dir = root_dir / 'mini_librispeech_nb'"
   ]
  },
  {
   "cell_type": "markdown",
   "metadata": {},
   "source": [
    "# Download and untar"
   ]
  },
  {
   "cell_type": "code",
   "execution_count": null,
   "metadata": {},
   "outputs": [],
   "source": [
    "download_and_untar(root_dir)"
   ]
  },
  {
   "cell_type": "markdown",
   "metadata": {},
   "source": [
    "# Prepare audio and supervision manifests"
   ]
  },
  {
   "cell_type": "code",
   "execution_count": null,
   "metadata": {},
   "outputs": [],
   "source": [
    "mini_librispeech_manifests = prepare_mini_librispeech(corpus_dir, output_dir)"
   ]
  },
  {
   "cell_type": "markdown",
   "metadata": {},
   "source": [
    "# Extract features"
   ]
  },
  {
   "cell_type": "code",
   "execution_count": null,
   "metadata": {},
   "outputs": [],
   "source": [
    "for partition, manifests in mini_librispeech_manifests.items():\n",
    "    feature_set_builder = FeatureSetBuilder(\n",
    "        feature_extractor=FeatureExtractor(type='mfcc'),\n",
    "        output_dir=f'{output_dir}/feats_{partition}'\n",
    "    )\n",
    "    feature_set = feature_set_builder.process_and_store_recordings(\n",
    "        recordings=manifests['audio'],\n",
    "        num_jobs=os.cpu_count()\n",
    "    )\n",
    "    mini_librispeech_manifests[partition]['feats'] = feature_set\n",
    "\n",
    "    cut_set = make_cuts_from_supervisions(manifests['supervisions'], feature_set)\n",
    "    mini_librispeech_manifests[partition]['cuts'] = cut_set\n",
    "    cut_set.to_yaml(output_dir / f'cuts_{partition}.yml')"
   ]
  },
  {
   "cell_type": "markdown",
   "metadata": {},
   "source": [
    "# Make pytorch Dataset"
   ]
  },
  {
   "cell_type": "code",
   "execution_count": null,
   "metadata": {},
   "outputs": [],
   "source": [
    "cuts_dev = SpeechRecognitionDataset(mini_librispeech_manifests['dev-clean-2']['cuts'])\n",
    "cuts_train = SpeechRecognitionDataset(mini_librispeech_manifests['train-clean-5']['cuts'])"
   ]
  },
  {
   "cell_type": "markdown",
   "metadata": {},
   "source": [
    "# Illustation of an example"
   ]
  },
  {
   "cell_type": "code",
   "execution_count": null,
   "metadata": {},
   "outputs": [],
   "source": [
    "sample = cuts_dev[0]\n",
    "print(sample['text'])\n",
    "plt.matshow(sample['feature'].transpose(0, 1).flip(0))"
   ]
  }
 ],
 "metadata": {
  "kernelspec": {
   "display_name": "Python 3",
   "language": "python",
   "name": "python3"
  },
  "language_info": {
   "codemirror_mode": {
    "name": "ipython",
    "version": 3
   },
   "file_extension": ".py",
   "mimetype": "text/x-python",
   "name": "python",
   "nbconvert_exporter": "python",
   "pygments_lexer": "ipython3",
   "version": "3.7.7"
  }
 },
 "nbformat": 4,
 "nbformat_minor": 4
}
