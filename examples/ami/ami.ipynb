{
 "cells": [
  {
   "cell_type": "code",
   "execution_count": null,
   "metadata": {},
   "outputs": [],
   "source": [
    "import os\n",
    "\n",
    "from pathlib import Path\n",
    "\n",
    "import matplotlib.pyplot as plt\n",
    "import torch\n",
    "\n",
    "from lhotse.recipes.ami import download, prepare_ami\n",
    "from lhotse.features import Fbank, FeatureSetBuilder\n",
    "from lhotse.cut import CutSet\n",
    "from lhotse.dataset.speech_recognition import SpeechRecognitionDataset\n",
    "from lhotse.dataset.vad import VadDataset"
   ]
  },
  {
   "cell_type": "markdown",
   "metadata": {},
   "source": [
    "# Settings for paths"
   ]
  },
  {
   "cell_type": "code",
   "execution_count": null,
   "metadata": {},
   "outputs": [],
   "source": [
    "root_dir = Path('data')\n",
    "output_dir = root_dir / 'ami_nb'"
   ]
  },
  {
   "cell_type": "markdown",
   "metadata": {},
   "source": [
    "# Download and untar"
   ]
  },
  {
   "cell_type": "code",
   "execution_count": null,
   "metadata": {},
   "outputs": [],
   "source": [
    "download(root_dir)"
   ]
  },
  {
   "cell_type": "markdown",
   "metadata": {},
   "source": [
    "# Prepare audio and supervision manifests"
   ]
  },
  {
   "cell_type": "code",
   "execution_count": null,
   "metadata": {},
   "outputs": [],
   "source": [
    "ami_manifests = prepare_ami(root_dir, output_dir)"
   ]
  },
  {
   "cell_type": "markdown",
   "metadata": {},
   "source": [
    "# Extract features"
   ]
  },
  {
   "cell_type": "code",
   "execution_count": null,
   "metadata": {},
   "outputs": [],
   "source": [
    "example = ami_manifests\n",
    "\n",
    "feature_set_builder = FeatureSetBuilder(\n",
    "    feature_extractor=Fbank(),\n",
    "    output_dir=f'{output_dir}/feats_example'\n",
    ")\n",
    "feature_set = feature_set_builder.process_and_store_recordings(\n",
    "    recordings=example['audio'],\n",
    "    num_jobs=os.cpu_count()\n",
    ")\n",
    "example['feats'] = feature_set"
   ]
  },
  {
   "cell_type": "code",
   "execution_count": null,
   "metadata": {},
   "outputs": [],
   "source": [
    "example['cuts'] = CutSet.from_manifests(supervision_set=example['supervisions'], feature_set=feature_set)"
   ]
  },
  {
   "cell_type": "markdown",
   "metadata": {},
   "source": [
    "# Make pytorch Dataset for ASR task"
   ]
  },
  {
   "cell_type": "code",
   "execution_count": null,
   "metadata": {},
   "outputs": [],
   "source": [
    "asr_dataset = SpeechRecognitionDataset(example['cuts'])"
   ]
  },
  {
   "cell_type": "markdown",
   "metadata": {},
   "source": [
    "# Illustation of an example"
   ]
  },
  {
   "cell_type": "code",
   "execution_count": null,
   "metadata": {},
   "outputs": [],
   "source": [
    "sample = asr_dataset[0]\n",
    "print(sample['text'])\n",
    "plt.matshow(sample['features'].transpose(0, 1).flip(0))"
   ]
  },
  {
   "cell_type": "markdown",
   "metadata": {},
   "source": [
    "# Make pytorch Dataset for VAD task"
   ]
  },
  {
   "cell_type": "code",
   "execution_count": null,
   "metadata": {},
   "outputs": [],
   "source": [
    "vad_dataset = VadDataset(example['cuts'], duration=10.0)"
   ]
  },
  {
   "cell_type": "markdown",
   "metadata": {},
   "source": [
    "# Illustation of an example"
   ]
  },
  {
   "cell_type": "code",
   "execution_count": null,
   "metadata": {},
   "outputs": [],
   "source": [
    "sample = vad_dataset[3]\n",
    "\n",
    "label_height = 10\n",
    "vad_label = torch.stack([sample['is_voice'] for i in range(label_height)]).reshape(label_height, 1000)\n",
    "plt.matshsow(vad_label)\n",
    "\n",
    "plt.matshow(sample['features'].transpose(0, 1).flip(0))"
   ]
  }
 ],
 "metadata": {
  "kernelspec": {
   "display_name": "Python 3",
   "language": "python",
   "name": "python3"
  },
  "language_info": {
   "codemirror_mode": {
    "name": "ipython",
    "version": 3
   },
   "file_extension": ".py",
   "mimetype": "text/x-python",
   "name": "python",
   "nbconvert_exporter": "python",
   "pygments_lexer": "ipython3",
   "version": "3.7.7"
  }
 },
 "nbformat": 4,
 "nbformat_minor": 4
}