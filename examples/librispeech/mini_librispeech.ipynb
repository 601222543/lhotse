{
 "cells": [
  {
   "cell_type": "code",
   "execution_count": 1,
   "metadata": {},
   "outputs": [],
   "source": [
    "import os\n",
    "from concurrent.futures import ProcessPoolExecutor\n",
    "from pathlib import Path\n",
    "\n",
    "import matplotlib.pyplot as plt\n",
    "import torch\n",
    "\n",
    "from lhotse import CutSet, Fbank, LilcomFilesWriter, WavAugmenter\n",
    "from lhotse.dataset import SpeechRecognitionDataset\n",
    "from lhotse.recipes.librispeech import download_and_untar, prepare_librispeech"
   ]
  },
  {
   "cell_type": "markdown",
   "metadata": {},
   "source": [
    "# Settings for paths"
   ]
  },
  {
   "cell_type": "code",
   "execution_count": 2,
   "metadata": {},
   "outputs": [],
   "source": [
    "root_dir = Path('data')\n",
    "corpus_dir = root_dir / 'LibriSpeech'\n",
    "output_dir = root_dir / 'mini_librispeech_nb'"
   ]
  },
  {
   "cell_type": "markdown",
   "metadata": {},
   "source": [
    "# Download and untar"
   ]
  },
  {
   "cell_type": "code",
   "execution_count": 3,
   "metadata": {},
   "outputs": [],
   "source": [
    "download_and_untar(root_dir)"
   ]
  },
  {
   "cell_type": "markdown",
   "metadata": {},
   "source": [
    "# Prepare audio and supervision manifests"
   ]
  },
  {
   "cell_type": "code",
   "execution_count": 4,
   "metadata": {},
   "outputs": [],
   "source": [
    "mini_librispeech_manifests = prepare_librispeech(corpus_dir, output_dir=output_dir)"
   ]
  },
  {
   "cell_type": "markdown",
   "metadata": {},
   "source": [
    "# [Optional] Data augmentation"
   ]
  },
  {
   "cell_type": "code",
   "execution_count": 5,
   "metadata": {},
   "outputs": [],
   "source": [
    "use_data_augmentation = False\n",
    "augmenter = WavAugmenter.create_predefined('pitch_reverb_tdrop', sampling_rate=16000) if use_data_augmentation else None\n",
    "# It seems when spawning multiple Python subprocesses with the same sox handle it raises \"std::runtime_error: Couldn't close file\"\n",
    "# The issue seems to happen only in a Jupyter notebook on Mac OS X, hence the work around below.\n",
    "num_jobs = 1 if use_data_augmentation else os.cpu_count()"
   ]
  },
  {
   "cell_type": "markdown",
   "metadata": {},
   "source": [
    "# Extract features"
   ]
  },
  {
   "cell_type": "code",
   "execution_count": 6,
   "metadata": {},
   "outputs": [],
   "source": [
    "for partition, manifests in mini_librispeech_manifests.items():\n",
    "    with LilcomFilesWriter(f'{output_dir}/feats_{partition}') as storage, ProcessPoolExecutor(num_jobs) as ex:\n",
    "        cut_set = CutSet.from_manifests(\n",
    "            recordings=manifests['recordings'],\n",
    "            supervisions=manifests['supervisions']\n",
    "        ).compute_and_store_features(\n",
    "            extractor=Fbank(),\n",
    "            storage=storage,\n",
    "            augmenter=augmenter,\n",
    "            executor=ex\n",
    "        ).pad()\n",
    "    mini_librispeech_manifests[partition]['cuts'] = cut_set\n",
    "    cut_set.to_json(output_dir / f'cuts_{partition}.json.gz')"
   ]
  },
  {
   "cell_type": "markdown",
   "metadata": {},
   "source": [
    "# Make PyTorch Dataset"
   ]
  },
  {
   "cell_type": "code",
   "execution_count": 7,
   "metadata": {},
   "outputs": [],
   "source": [
    "cuts_dev = SpeechRecognitionDataset(mini_librispeech_manifests['dev-clean-2']['cuts'])\n",
    "cuts_train = SpeechRecognitionDataset(mini_librispeech_manifests['train-clean-5']['cuts'])"
   ]
  },
  {
   "cell_type": "markdown",
   "metadata": {},
   "source": [
    "# Illustration of an example"
   ]
  },
  {
   "cell_type": "code",
   "execution_count": 8,
   "metadata": {},
   "outputs": [
    {
     "name": "stdout",
     "output_type": "stream",
     "text": [
      "Transcript: IF THE READER WILL EXCUSE ME I WILL SAY NOTHING OF MY ANTECEDENTS NOR OF THE CIRCUMSTANCES WHICH LED ME TO LEAVE MY NATIVE COUNTRY THE NARRATIVE WOULD BE TEDIOUS TO HIM AND PAINFUL TO MYSELF\n",
      "Supervisions mask: tensor([1., 1., 1.,  ..., 0., 0., 0.], dtype=torch.float64)\n",
      "Feature matrix:\n"
     ]
    },
    {
     "data": {
      "image/png": "[encoded data removed]",
      "text/plain": [
       "<Figure size 1152x144 with 1 Axes>"
      ]
     },
     "metadata": {
      "needs_background": "light"
     },
     "output_type": "display_data"
    }
   ],
   "source": [
    "sample = cuts_dev[0]\n",
    "print('Transcript:', sample['text'])\n",
    "print('Supervisions mask:', sample['supervisions_mask'])\n",
    "print('Feature matrix:')\n",
    "plt.matshow(sample['features'].transpose(0, 1).flip(0));"
   ]
  },
  {
   "cell_type": "markdown",
   "metadata": {},
   "source": [
    "# Make PyTorch Dataloader"
   ]
  },
  {
   "cell_type": "code",
   "execution_count": 9,
   "metadata": {},
   "outputs": [],
   "source": [
    "train_dl = torch.utils.data.DataLoader(cuts_train, batch_size=16, shuffle=True)\n",
    "dev_dl = torch.utils.data.DataLoader(cuts_dev, batch_size=32)"
   ]
  },
  {
   "cell_type": "code",
   "execution_count": 10,
   "metadata": {},
   "outputs": [
    {
     "name": "stdout",
     "output_type": "stream",
     "text": [
      "features - shape or length: torch.Size([16, 1727, 40])\n",
      "text - shape or length: 16\n",
      "supervisions_mask - shape or length: torch.Size([16, 1727])\n"
     ]
    }
   ],
   "source": [
    "for batch in train_dl:\n",
    "    for key, value in batch.items():\n",
    "        print(key, '- shape or length:', end=' ')\n",
    "        if isinstance(value, torch.Tensor):\n",
    "            print(value.shape)\n",
    "        else:\n",
    "            print(len(value))\n",
    "    break"
   ]
  },
  {
   "cell_type": "code",
   "execution_count": null,
   "metadata": {},
   "outputs": [],
   "source": []
  }
 ],
 "metadata": {
  "kernelspec": {
   "display_name": "Python 3",
   "language": "python",
   "name": "python3"
  },
  "language_info": {
   "codemirror_mode": {
    "name": "ipython",
    "version": 3
   },
   "file_extension": ".py",
   "mimetype": "text/x-python",
   "name": "python",
   "nbconvert_exporter": "python",
   "pygments_lexer": "ipython3",
   "version": "3.7.7"
  }
 },
 "nbformat": 4,
 "nbformat_minor": 4
}
